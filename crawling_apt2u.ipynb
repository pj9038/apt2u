{
 "cells": [
  {
   "cell_type": "markdown",
   "metadata": {},
   "source": [
    "# 1. 데이터 수집\n",
    "### apt2u 홈페이지에서 청약통장 가입현황 모든 파일 다운받기"
   ]
  },
  {
   "cell_type": "code",
   "execution_count": 142,
   "metadata": {
    "scrolled": true
   },
   "outputs": [],
   "source": [
    "from selenium import webdriver\n",
    "\n",
    "## 아까 받은 chromedriver의 위치를 지정해준다.=>에러남\n",
    "#해결 : chromedriver.exe파일을 파이썬 스크립트 폴더안에 넣었음(파이썬 설치경로)\n",
    "driver = webdriver.Chrome()\n",
    "\n",
    "## 암묵적으로 웹 자원 로드를 위해 10초까지 기다려 준다.\n",
    "driver.implicitly_wait(10)\n",
    "## url에 접근한다.\n",
    "driver.get('https://www.apt2you.com/accountSpecificTwoState.do')"
   ]
  },
  {
   "cell_type": "code",
   "execution_count": 61,
   "metadata": {},
   "outputs": [],
   "source": [
    "#통장유형설정\n",
    "def setType(typevalue):   \n",
    "    tp = driver.find_element_by_xpath(\"//option[@value='\" + str(typevalue) + \"']\")\n",
    "    tp.click()\n",
    "setType(\"예금\")"
   ]
  },
  {
   "cell_type": "code",
   "execution_count": 62,
   "metadata": {},
   "outputs": [],
   "source": [
    "#년도설정\n",
    "def setYear(yearvalue):   \n",
    "    year = driver.find_element_by_xpath(\"//option[@value='\" + str(yearvalue) + \"']\")\n",
    "    year.click()\n",
    "setYear(2009)"
   ]
  },
  {
   "cell_type": "code",
   "execution_count": 63,
   "metadata": {},
   "outputs": [],
   "source": [
    "#월설정\n",
    "def setMonth(monthvalue):   \n",
    "    month = driver.find_element_by_xpath(\"//option[@value='\" + str(monthvalue) + \"']\")\n",
    "    month.click()\n",
    "setMonth('01')"
   ]
  },
  {
   "cell_type": "code",
   "execution_count": 64,
   "metadata": {},
   "outputs": [],
   "source": [
    "#조회 버튼 클릭\n",
    "#driver.find_element_by_xpath(\"//*[@id=\\\"content\\\"]/div[2]/div[2]/form/div[2]/button\").click()"
   ]
  },
  {
   "cell_type": "code",
   "execution_count": 65,
   "metadata": {},
   "outputs": [],
   "source": [
    "#다운로드 버튼 클릭\n",
    "#driver.find_element_by_xpath(\"//*[@id=\\\"content\\\"]/div[2]/div[5]/a[2]\").click()"
   ]
  },
  {
   "cell_type": "code",
   "execution_count": 155,
   "metadata": {
    "scrolled": true
   },
   "outputs": [],
   "source": [
    "import os\n",
    "import shutil\n",
    "\n",
    "#통장종류 option value 리스트\n",
    "typevalue = [\"종합\",\"저축\",\"예금\",\"부금\"]\n",
    "#typevalue = [\"부금\"]\n",
    "#Year리스트\n",
    "Yearvalue_tmp = list(range(2000,2019))\n",
    "Yearvalue = []\n",
    "for i in Yearvalue_tmp:\n",
    "    Yearvalue.append(str(i))\n",
    "#Month리스트\n",
    "Monthvalue=[\"01\",\"02\",\"03\",\"04\",\"05\",\"06\",\"07\",\"08\",\"09\",\"10\",\"11\",\"12\"]\n",
    "#Monthvalue=[\"01\"]\n",
    "#통장 설정\n",
    "for option in typevalue:\n",
    "    setType(option)\n",
    "    for year in Yearvalue:\n",
    "        setYear(year)\n",
    "        for month in Monthvalue:\n",
    "            setMonth(month)\n",
    "            driver.find_element_by_xpath(\"//*[@id=\\\"content\\\"]/div[2]/div[2]/form/div[2]/button\").click()\n",
    "            driver.find_element_by_xpath(\"//*[@id=\\\"content\\\"]/div[2]/div[6]/a[2]\").click()\n",
    "            #newpath = r'C:\\Users\\pj903\\Downloads\\{}\\{}\\{}'.format(option,year,month) \n",
    "            #if not os.path.exists(newpath):\n",
    "            #    os.makedirs(newpath)\n",
    "            #shutil.move(\"Apt2You_ExcelData.xls\" , \"{}\\\\Apt2You_ExcelData.xls\".format(newpath))\n",
    "            #break"
   ]
  },
  {
   "cell_type": "code",
   "execution_count": null,
   "metadata": {},
   "outputs": [],
   "source": []
  }
 ],
 "metadata": {
  "kernelspec": {
   "display_name": "Python 3",
   "language": "python",
   "name": "python3"
  },
  "language_info": {
   "codemirror_mode": {
    "name": "ipython",
    "version": 3
   },
   "file_extension": ".py",
   "mimetype": "text/x-python",
   "name": "python",
   "nbconvert_exporter": "python",
   "pygments_lexer": "ipython3",
   "version": "3.6.5"
  }
 },
 "nbformat": 4,
 "nbformat_minor": 2
}
